{
  "nbformat": 4,
  "nbformat_minor": 0,
  "metadata": {
    "colab": {
      "name": "Activity 2 - Matrix.ipynb",
      "provenance": [],
      "authorship_tag": "ABX9TyOE9FsC674xUwR7mW84CwCM",
      "include_colab_link": true
    },
    "kernelspec": {
      "name": "python3",
      "display_name": "Python 3"
    },
    "language_info": {
      "name": "python"
    }
  },
  "cells": [
    {
      "cell_type": "markdown",
      "metadata": {
        "id": "view-in-github",
        "colab_type": "text"
      },
      "source": [
        "<a href=\"https://colab.research.google.com/github/beafrnndz/Linear-Algebra_2ndSemester/blob/main/Activity_2_Matrix.ipynb\" target=\"_parent\"><img src=\"https://colab.research.google.com/assets/colab-badge.svg\" alt=\"Open In Colab\"/></a>"
      ]
    },
    {
      "cell_type": "code",
      "execution_count": 2,
      "metadata": {
        "id": "MRe38mQKaE99"
      },
      "outputs": [],
      "source": [
        ""
      ]
    },
    {
      "cell_type": "markdown",
      "source": [
        "#Linear Algebra for ChE\n",
        "##Laboratory 4: Matrices"
      ],
      "metadata": {
        "id": "22WnAK9ix4lq"
      }
    },
    {
      "cell_type": "markdown",
      "source": [
        "###Objectives\n",
        "At the end of this activity you will be able to:\n",
        "1. Be FAMILIAR WITH MATIRCES"
      ],
      "metadata": {
        "id": "QigfRXmFx7JD"
      }
    },
    {
      "cell_type": "markdown",
      "source": [
        "##Discussion"
      ],
      "metadata": {
        "id": "Z6m_hLmoyHJD"
      }
    },
    {
      "cell_type": "code",
      "source": [
        "import numpy as np\n",
        "import matplotlib.pyplot as plt\n",
        "import scipy.linalg as la\n",
        "%matplotlib inline"
      ],
      "metadata": {
        "id": "ZGnphpdryMYF"
      },
      "execution_count": 3,
      "outputs": []
    },
    {
      "cell_type": "markdown",
      "source": [
        "###Matrices"
      ],
      "metadata": {
        "id": "JPep7PSEy3Or"
      }
    },
    {
      "cell_type": "markdown",
      "source": [
        "The notation and use of matrices is probably one of the fundamentals of modern computing. Matrices are also hansy representauons of complex equations or multiple inter-related equations from 2 dimensional equations to even hundreds and thousands of them. \n",
        "\n",
        "Lets's say"
      ],
      "metadata": {
        "id": "HO3QV2Mjy5ld"
      }
    },
    {
      "cell_type": "markdown",
      "source": [
        "$$\n",
        "A = \\left\\{\n",
        "    \\begin{array}\\\n",
        "        x + y \\\\ \n",
        "        4x - 10y\n",
        "    \\end{array}\n",
        "\\right. \\\\\n",
        "B = \\left\\{\n",
        "    \\begin{array}\\\n",
        "        x+y+z \\\\ \n",
        "        3x -2y -z \\\\\n",
        "        -x + 4y +2z\n",
        "    \\end{array}\n",
        "\\right.\\\\\n",
        "C = \\left\\{\n",
        "    \\begin{array}\\\n",
        "        4w+x+2y-3z \\\\ \n",
        "        3w +2x -y +4z \\\\\n",
        "        12w + (-2x) +2y- 7z\n",
        "    \\end{array}\n",
        "\\right. $$\n"
      ],
      "metadata": {
        "id": "1WXmbWHJzzD-"
      }
    },
    {
      "cell_type": "markdown",
      "source": [
        "$$\n",
        "A=\\begin{bmatrix} 1 & 1 \\\\ 4 & {-10}\\end{bmatrix} \\\\\n",
        "B=\\begin{bmatrix} 1 & 1 & 1 \\\\ 3 & -2 & -1 \\\\ -1 & 4 & 2\\end{bmatrix}\\\\\n",
        "C=\\begin{bmatrix} 4 & 1 & 2 & -3 \\\\ 3 & 2 & -1 & 4 \\\\ 12 & -2 & 2 & -7\\end{bmatrix} \n",
        "$$\n"
      ],
      "metadata": {
        "id": "3Bs8weTt1h0j"
      }
    },
    {
      "cell_type": "markdown",
      "source": [
        "$$A=\\begin{bmatrix}\n",
        "a_{(0,0)}&a_{(0,1)}&\\dots&a_{(0,j-1)}\\\\\n",
        "a_{(1,0)}&a_{(1,1)}&\\dots&a_{(1,j-1)}\\\\\n",
        "\\vdots&\\vdots&\\ddots&\\vdots&\\\\\n",
        "a_{(i-1,0)}&a_{(i-1,1)}&\\dots&a_{(i-1,j-1)}\n",
        "\\end{bmatrix}\n",
        "$$\n"
      ],
      "metadata": {
        "id": "zRsQP_Tq3wgw"
      }
    },
    {
      "cell_type": "code",
      "source": [
        "def describe_mat(matrix):\n",
        "  print(f'Matrix:\\n{matrix}\\n\\nShape:\\t{matrix.shape}\\nRank:\\t{matrix.ndim}\\n')"
      ],
      "metadata": {
        "id": "UP0Tr2aG31SG"
      },
      "execution_count": 4,
      "outputs": []
    },
    {
      "cell_type": "code",
      "source": [
        "## Declaring a 2 x2 matrix\n",
        "A = np.array([\n",
        "    [1, 3,3],\n",
        "    [3, 11,12]\n",
        "])\n",
        "describe_mat(A)\n",
        "  \n"
      ],
      "metadata": {
        "colab": {
          "base_uri": "https://localhost:8080/"
        },
        "id": "It7aUvyu4Q4a",
        "outputId": "b48f1028-297f-478f-8293-b85fa7fb93ab"
      },
      "execution_count": 5,
      "outputs": [
        {
          "output_type": "stream",
          "name": "stdout",
          "text": [
            "Matrix:\n",
            "[[ 1  3  3]\n",
            " [ 3 11 12]]\n",
            "\n",
            "Shape:\t(2, 3)\n",
            "Rank:\t2\n",
            "\n"
          ]
        }
      ]
    },
    {
      "cell_type": "markdown",
      "source": [
        ""
      ],
      "metadata": {
        "id": "4xSMfqVS2Zgg"
      }
    },
    {
      "cell_type": "code",
      "source": [
        "## Declaring a 3 x 2 matrix\n",
        "B = np.array([\n",
        "    [1, 3],\n",
        "    [3, 11],\n",
        "    [2,1]\n",
        "])\n",
        "describe_mat(B)\n",
        "  \n"
      ],
      "metadata": {
        "colab": {
          "base_uri": "https://localhost:8080/"
        },
        "id": "gZCCezGe6aa_",
        "outputId": "e234ffe2-8b70-4182-e746-8fc83decf9d8"
      },
      "execution_count": 6,
      "outputs": [
        {
          "output_type": "stream",
          "name": "stdout",
          "text": [
            "Matrix:\n",
            "[[ 1  3]\n",
            " [ 3 11]\n",
            " [ 2  1]]\n",
            "\n",
            "Shape:\t(3, 2)\n",
            "Rank:\t2\n",
            "\n"
          ]
        }
      ]
    },
    {
      "cell_type": "code",
      "source": [
        "## Declaring a Row Matrix\n",
        "row_mat_1D = np.array ([\n",
        "    1, 3, 2, 9\n",
        "]) \n",
        "row_mat_2D = np.array ([\n",
        "    [15, 3, 1, 2]\n",
        "])\n",
        "describe_mat(row_mat_1D)\n",
        "describe_mat(row_mat_2D)"
      ],
      "metadata": {
        "colab": {
          "base_uri": "https://localhost:8080/"
        },
        "id": "vWK3QKEY7mGQ",
        "outputId": "0909f8a1-07bb-475c-8d55-fe6dd5815214"
      },
      "execution_count": 7,
      "outputs": [
        {
          "output_type": "stream",
          "name": "stdout",
          "text": [
            "Matrix:\n",
            "[1 3 2 9]\n",
            "\n",
            "Shape:\t(4,)\n",
            "Rank:\t1\n",
            "\n",
            "Matrix:\n",
            "[[15  3  1  2]]\n",
            "\n",
            "Shape:\t(1, 4)\n",
            "Rank:\t2\n",
            "\n"
          ]
        }
      ]
    },
    {
      "cell_type": "code",
      "source": [
        "col_mat = np.array ([\n",
        "      [2],\n",
        "      [12],\n",
        "      [54]\n",
        "])\n",
        "describe_mat(col_mat)"
      ],
      "metadata": {
        "colab": {
          "base_uri": "https://localhost:8080/"
        },
        "id": "0dr92-vf8ota",
        "outputId": "5867c090-b0c7-43a2-b5aa-a0319c9289bc"
      },
      "execution_count": 8,
      "outputs": [
        {
          "output_type": "stream",
          "name": "stdout",
          "text": [
            "Matrix:\n",
            "[[ 2]\n",
            " [12]\n",
            " [54]]\n",
            "\n",
            "Shape:\t(3, 1)\n",
            "Rank:\t2\n",
            "\n"
          ]
        }
      ]
    },
    {
      "cell_type": "code",
      "source": [
        "def describe_mat(matrix):\n",
        "  is_square = True if matrix.shape [0] == matrix.shape [1] else False\n",
        "  print(f'Matrix:\\n{matrix}\\n\\nShape:\\t{matrix.shape}\\nRank:\\t{matrix.ndim}\\nIs Square: {is_square}\\n')"
      ],
      "metadata": {
        "id": "EAc7WgrT-BlN"
      },
      "execution_count": 9,
      "outputs": []
    },
    {
      "cell_type": "code",
      "source": [
        "square_mat = np.array([\n",
        "    [7,5,2],\n",
        "    [90,12,4],\n",
        "    [7,5,1]\n",
        "])\n",
        "\n",
        "non_square_mat = np.array([\n",
        "    [3,1,6],\n",
        "    [39,42,7]\n",
        "\n",
        "])\n",
        "describe_mat(square_mat)\n",
        "describe_mat(non_square_mat)"
      ],
      "metadata": {
        "colab": {
          "base_uri": "https://localhost:8080/"
        },
        "id": "YaH85UUT-utn",
        "outputId": "2d9551d7-7dbe-4223-e483-7985bcfcd9f5"
      },
      "execution_count": 10,
      "outputs": [
        {
          "output_type": "stream",
          "name": "stdout",
          "text": [
            "Matrix:\n",
            "[[ 7  5  2]\n",
            " [90 12  4]\n",
            " [ 7  5  1]]\n",
            "\n",
            "Shape:\t(3, 3)\n",
            "Rank:\t2\n",
            "Is Square: True\n",
            "\n",
            "Matrix:\n",
            "[[ 3  1  6]\n",
            " [39 42  7]]\n",
            "\n",
            "Shape:\t(2, 3)\n",
            "Rank:\t2\n",
            "Is Square: False\n",
            "\n"
          ]
        }
      ]
    },
    {
      "cell_type": "markdown",
      "source": [
        "## According to Elements"
      ],
      "metadata": {
        "id": "GGWTiV2ABFfw"
      }
    },
    {
      "cell_type": "markdown",
      "source": [
        "### Null Matrix"
      ],
      "metadata": {
        "id": "fiORAIKsBKRi"
      }
    },
    {
      "cell_type": "code",
      "source": [
        "def describe_mat(matrix):\n",
        "  if matrix.size > 0:\n",
        "    is_square = True if matrix.shape [0] == matrix.shape [1] else False\n",
        "    print(f'Matrix:\\n{matrix}\\n\\nShape:\\t{matrix.shape}\\nRank:\\t{matrix.ndim}\\nIs Square: {is_square}\\n')\n",
        "  else:\n",
        "    print('Matrix is Null')\n",
        "    "
      ],
      "metadata": {
        "id": "-Wvqk3aaBPu9"
      },
      "execution_count": 11,
      "outputs": []
    },
    {
      "cell_type": "code",
      "source": [
        "null_mat = np.array([])\n",
        "describe_mat(null_mat)"
      ],
      "metadata": {
        "colab": {
          "base_uri": "https://localhost:8080/"
        },
        "id": "CnLl3QCBBPzK",
        "outputId": "a63d0190-bb97-4add-b85b-03e6a73e7161"
      },
      "execution_count": 12,
      "outputs": [
        {
          "output_type": "stream",
          "name": "stdout",
          "text": [
            "Matrix is Null\n"
          ]
        }
      ]
    },
    {
      "cell_type": "markdown",
      "source": [
        "## Zero Matrix"
      ],
      "metadata": {
        "id": "6SELN21qCSjM"
      }
    },
    {
      "cell_type": "code",
      "source": [
        "zero_mat_row = np.zeros((7,8))\n",
        "zero_mat_sqr = np.zeros((2,3))\n",
        "zero_mat_rct = np.zeros((4,7))\n",
        "\n",
        "print(f'Zero Row Matrix:\\n{zero_mat_row}')\n",
        "print(f'Zero Square Matrix:\\n{zero_mat_sqr}')\n",
        "print(f'Zero Rectangular Matrix:\\n{zero_mat_rct}')"
      ],
      "metadata": {
        "colab": {
          "base_uri": "https://localhost:8080/"
        },
        "id": "gnNu71XzCUbh",
        "outputId": "1d2516fa-9e0e-4d1f-e291-0ee95d1a7075"
      },
      "execution_count": 13,
      "outputs": [
        {
          "output_type": "stream",
          "name": "stdout",
          "text": [
            "Zero Row Matrix:\n",
            "[[0. 0. 0. 0. 0. 0. 0. 0.]\n",
            " [0. 0. 0. 0. 0. 0. 0. 0.]\n",
            " [0. 0. 0. 0. 0. 0. 0. 0.]\n",
            " [0. 0. 0. 0. 0. 0. 0. 0.]\n",
            " [0. 0. 0. 0. 0. 0. 0. 0.]\n",
            " [0. 0. 0. 0. 0. 0. 0. 0.]\n",
            " [0. 0. 0. 0. 0. 0. 0. 0.]]\n",
            "Zero Square Matrix:\n",
            "[[0. 0. 0.]\n",
            " [0. 0. 0.]]\n",
            "Zero Rectangular Matrix:\n",
            "[[0. 0. 0. 0. 0. 0. 0.]\n",
            " [0. 0. 0. 0. 0. 0. 0.]\n",
            " [0. 0. 0. 0. 0. 0. 0.]\n",
            " [0. 0. 0. 0. 0. 0. 0.]]\n"
          ]
        }
      ]
    },
    {
      "cell_type": "code",
      "source": [
        "ones_mat_row = np.ones((5,8))\n",
        "ones_mat_sqr = np.ones((2,2))\n",
        "ones_mat_rct = np.ones((9,7))\n",
        "\n",
        "print(f'Zero Row Matrix:\\n{ones_mat_row}')\n",
        "print(f'Zero Square Matrix:\\n{ones_mat_sqr}')\n",
        "print(f'Zero Rectangular Matrix:\\n{ones_mat_rct}')"
      ],
      "metadata": {
        "colab": {
          "base_uri": "https://localhost:8080/"
        },
        "id": "JWfwAuoqD08m",
        "outputId": "070e6f61-4a3b-4c3e-9364-9381f584d4c0"
      },
      "execution_count": 14,
      "outputs": [
        {
          "output_type": "stream",
          "name": "stdout",
          "text": [
            "Zero Row Matrix:\n",
            "[[1. 1. 1. 1. 1. 1. 1. 1.]\n",
            " [1. 1. 1. 1. 1. 1. 1. 1.]\n",
            " [1. 1. 1. 1. 1. 1. 1. 1.]\n",
            " [1. 1. 1. 1. 1. 1. 1. 1.]\n",
            " [1. 1. 1. 1. 1. 1. 1. 1.]]\n",
            "Zero Square Matrix:\n",
            "[[1. 1.]\n",
            " [1. 1.]]\n",
            "Zero Rectangular Matrix:\n",
            "[[1. 1. 1. 1. 1. 1. 1.]\n",
            " [1. 1. 1. 1. 1. 1. 1.]\n",
            " [1. 1. 1. 1. 1. 1. 1.]\n",
            " [1. 1. 1. 1. 1. 1. 1.]\n",
            " [1. 1. 1. 1. 1. 1. 1.]\n",
            " [1. 1. 1. 1. 1. 1. 1.]\n",
            " [1. 1. 1. 1. 1. 1. 1.]\n",
            " [1. 1. 1. 1. 1. 1. 1.]\n",
            " [1. 1. 1. 1. 1. 1. 1.]]\n"
          ]
        }
      ]
    },
    {
      "cell_type": "markdown",
      "source": [
        "### Diagonal Matrix"
      ],
      "metadata": {
        "id": "11Tm33nDEoOC"
      }
    },
    {
      "cell_type": "code",
      "source": [
        "np.array([\n",
        "          [9,0,0],\n",
        "          [0,10,0],\n",
        "          [0,0,7]\n",
        "])\n"
      ],
      "metadata": {
        "colab": {
          "base_uri": "https://localhost:8080/"
        },
        "id": "4mB07bYLErzn",
        "outputId": "69d04ec8-d1a3-457a-deb4-5ce89f22b6c2"
      },
      "execution_count": 15,
      "outputs": [
        {
          "output_type": "execute_result",
          "data": {
            "text/plain": [
              "array([[ 9,  0,  0],\n",
              "       [ 0, 10,  0],\n",
              "       [ 0,  0,  7]])"
            ]
          },
          "metadata": {},
          "execution_count": 15
        }
      ]
    },
    {
      "cell_type": "code",
      "source": [
        "d = np.diag([8,4,1,6])\n",
        "d.shape [0] == d.shape [1]\n",
        "d"
      ],
      "metadata": {
        "colab": {
          "base_uri": "https://localhost:8080/"
        },
        "id": "DHnXUFi5E4T_",
        "outputId": "d6a07da6-46c3-4fee-9b5c-a5c4a8d869c7"
      },
      "execution_count": 16,
      "outputs": [
        {
          "output_type": "execute_result",
          "data": {
            "text/plain": [
              "array([[8, 0, 0, 0],\n",
              "       [0, 4, 0, 0],\n",
              "       [0, 0, 1, 0],\n",
              "       [0, 0, 0, 6]])"
            ]
          },
          "metadata": {},
          "execution_count": 16
        }
      ]
    },
    {
      "cell_type": "markdown",
      "source": [
        "###Identity Matrix"
      ],
      "metadata": {
        "id": "oH3qTxUXF3wC"
      }
    },
    {
      "cell_type": "code",
      "source": [
        "np.eye(8)"
      ],
      "metadata": {
        "colab": {
          "base_uri": "https://localhost:8080/"
        },
        "id": "nqgT_t7GF57d",
        "outputId": "823c4a07-1348-4345-f149-2ad0938e7e17"
      },
      "execution_count": 17,
      "outputs": [
        {
          "output_type": "execute_result",
          "data": {
            "text/plain": [
              "array([[1., 0., 0., 0., 0., 0., 0., 0.],\n",
              "       [0., 1., 0., 0., 0., 0., 0., 0.],\n",
              "       [0., 0., 1., 0., 0., 0., 0., 0.],\n",
              "       [0., 0., 0., 1., 0., 0., 0., 0.],\n",
              "       [0., 0., 0., 0., 1., 0., 0., 0.],\n",
              "       [0., 0., 0., 0., 0., 1., 0., 0.],\n",
              "       [0., 0., 0., 0., 0., 0., 1., 0.],\n",
              "       [0., 0., 0., 0., 0., 0., 0., 1.]])"
            ]
          },
          "metadata": {},
          "execution_count": 17
        }
      ]
    },
    {
      "cell_type": "markdown",
      "source": [
        "###Upper Triangular Matrix"
      ],
      "metadata": {
        "id": "4oAsY9ZwGcFF"
      }
    },
    {
      "cell_type": "code",
      "source": [
        "np.array ([\n",
        "           [5,6,7,8],\n",
        "           [0,12,23,4],\n",
        "           [0,0,12,5],\n",
        "           [0,0,0,6,]\n",
        "])"
      ],
      "metadata": {
        "colab": {
          "base_uri": "https://localhost:8080/"
        },
        "id": "rzCCoEQrGemk",
        "outputId": "063de976-93c0-4735-dee0-548a2ef8ae00"
      },
      "execution_count": 18,
      "outputs": [
        {
          "output_type": "execute_result",
          "data": {
            "text/plain": [
              "array([[ 5,  6,  7,  8],\n",
              "       [ 0, 12, 23,  4],\n",
              "       [ 0,  0, 12,  5],\n",
              "       [ 0,  0,  0,  6]])"
            ]
          },
          "metadata": {},
          "execution_count": 18
        }
      ]
    },
    {
      "cell_type": "markdown",
      "source": [
        "###Lower Triangular Matrix"
      ],
      "metadata": {
        "id": "sSiVac_eGy2M"
      }
    },
    {
      "cell_type": "code",
      "source": [
        "np.array ([\n",
        "           [0,0,0,8],\n",
        "           [0,0,23,4],\n",
        "           [0,3,12,5],\n",
        "           [4,6,9,6,]\n",
        "])"
      ],
      "metadata": {
        "colab": {
          "base_uri": "https://localhost:8080/"
        },
        "id": "qzpkzM25G20-",
        "outputId": "d0318d89-8e35-4bfd-e4ea-c48de1f88681"
      },
      "execution_count": 19,
      "outputs": [
        {
          "output_type": "execute_result",
          "data": {
            "text/plain": [
              "array([[ 0,  0,  0,  8],\n",
              "       [ 0,  0, 23,  4],\n",
              "       [ 0,  3, 12,  5],\n",
              "       [ 4,  6,  9,  6]])"
            ]
          },
          "metadata": {},
          "execution_count": 19
        }
      ]
    },
    {
      "cell_type": "markdown",
      "source": [
        "##Practice"
      ],
      "metadata": {
        "id": "Uw5aFtY-HZ24"
      }
    },
    {
      "cell_type": "markdown",
      "source": [
        "1. Given the linear combination below, try to create a corresponding matrix representing it.\n",
        "\n",
        "\n",
        "$$\\theta = 5x + 3y - z$$\n"
      ],
      "metadata": {
        "id": "-05yqqpmHy6v"
      }
    },
    {
      "cell_type": "code",
      "source": [
        "A = np.array([5,3,-1])\n",
        "print(A)"
      ],
      "metadata": {
        "colab": {
          "base_uri": "https://localhost:8080/"
        },
        "id": "A6Jqo4eHW3IG",
        "outputId": "43a5f547-c11d-4884-9d30-a89f157a51dd"
      },
      "execution_count": 20,
      "outputs": [
        {
          "output_type": "stream",
          "name": "stdout",
          "text": [
            "[ 5  3 -1]\n"
          ]
        }
      ]
    },
    {
      "cell_type": "markdown",
      "source": [
        "2. Given the system of linear combinations below, try to encode it as a matrix. Also describe the matrix.\n",
        "\n",
        "$$\n",
        "A = \\left\\{\\begin{array}\n",
        "5x_1 + 2x_2 +x_3\\\\\n",
        "4x_2 - x_3\\\\\n",
        "10x_3\n",
        "\\end{array}\\right.\n",
        "$$\n"
      ],
      "metadata": {
        "id": "-gMTKh2PH1z0"
      }
    },
    {
      "cell_type": "code",
      "source": [
        "pa = np.array([\n",
        "    [1, 1,1],\n",
        "    [0,-4, -1],\n",
        "    [0,0,10]\n",
        "])\n",
        "describe_mat(pa)\n",
        "  "
      ],
      "metadata": {
        "colab": {
          "base_uri": "https://localhost:8080/"
        },
        "id": "r4lYkyppYr6d",
        "outputId": "9b28c77b-3588-4f39-c1ea-f3e092b10697"
      },
      "execution_count": 21,
      "outputs": [
        {
          "output_type": "stream",
          "name": "stdout",
          "text": [
            "Matrix:\n",
            "[[ 1  1  1]\n",
            " [ 0 -4 -1]\n",
            " [ 0  0 10]]\n",
            "\n",
            "Shape:\t(3, 3)\n",
            "Rank:\t2\n",
            "Is Square: True\n",
            "\n"
          ]
        }
      ]
    },
    {
      "cell_type": "markdown",
      "source": [
        "3. Given the matrix below, express it as a linear combination in a markdown and a LaTeX markdown\n"
      ],
      "metadata": {
        "id": "4OtyCpbBIsZA"
      }
    },
    {
      "cell_type": "code",
      "source": [
        "G = np.array([\n",
        "    [1,7,8],\n",
        "    [2,2,2],\n",
        "    [4,6,7]\n",
        "])\n"
      ],
      "metadata": {
        "id": "7BHhnZKEIzKj"
      },
      "execution_count": 22,
      "outputs": []
    },
    {
      "cell_type": "markdown",
      "source": [
        "$$\n",
        "G = \\left\\{\n",
        "    \\begin{array}\\\n",
        "        1x+7y+8z \\\\ \n",
        "        2x +2y +2z \\\\\n",
        "        4x + 6y +7z\n",
        "    \\end{array}\n",
        "\\right.\\\\\n",
        "G= \\begin{bmatrix} 1 & 7 & 8 \\\\ 2 & 2 & 2 \\\\ 4 & 6 & 7\\end{bmatrix}\\\\\n",
        "$$\n"
      ],
      "metadata": {
        "id": "UYnt5b5Izakb"
      }
    },
    {
      "cell_type": "markdown",
      "source": [
        "4. Given the matrix below, display the output as a LaTeX markdown also express it as a system of linear combinations.\n"
      ],
      "metadata": {
        "id": "-XxILG9JI4Fu"
      }
    },
    {
      "cell_type": "code",
      "source": [
        "H = np.tril(G)\n",
        "H\n"
      ],
      "metadata": {
        "id": "D9f3-1TxI6fG",
        "outputId": "30b1197c-c07b-4997-93c1-81e253df4a87",
        "colab": {
          "base_uri": "https://localhost:8080/"
        }
      },
      "execution_count": 23,
      "outputs": [
        {
          "output_type": "execute_result",
          "data": {
            "text/plain": [
              "array([[1, 0, 0],\n",
              "       [2, 2, 0],\n",
              "       [4, 6, 7]])"
            ]
          },
          "metadata": {},
          "execution_count": 23
        }
      ]
    },
    {
      "cell_type": "markdown",
      "source": [
        "$$\n",
        "G = \\left\\{\n",
        "    \\begin{array}\\\n",
        "        1x \\\\ \n",
        "        2x +2y  \\\\\n",
        "        4x + 6y +7z\n",
        "    \\end{array}\n",
        "\\right.\\\\\n",
        "G= \\begin{bmatrix} 1 & 0 & 0 \\\\ 2 & 2 & 0 \\\\ 4 & 6 & 7\\end{bmatrix}\\\\\n",
        "$$\n"
      ],
      "metadata": {
        "id": "jelouiTx4By_"
      }
    },
    {
      "cell_type": "markdown",
      "source": [
        "##Matrix Algebra"
      ],
      "metadata": {
        "id": "yieKWrlzJNzJ"
      }
    },
    {
      "cell_type": "markdown",
      "source": [
        "###Addition"
      ],
      "metadata": {
        "id": "E_X3R3jH1LWk"
      }
    },
    {
      "cell_type": "code",
      "source": [
        "A = np.array ([\n",
        "               [1,2],\n",
        "               [3,5],\n",
        "               [3,4]\n",
        "])\n",
        "B = np.array ([\n",
        "               [6,4],\n",
        "               [5,2],\n",
        "               [6,1]\n",
        "])\n",
        "A+B\n"
      ],
      "metadata": {
        "id": "Vm4RA3iNJREJ",
        "colab": {
          "base_uri": "https://localhost:8080/"
        },
        "outputId": "2b87546b-bae4-4420-d7b3-403b4fb1ee96"
      },
      "execution_count": 24,
      "outputs": [
        {
          "output_type": "execute_result",
          "data": {
            "text/plain": [
              "array([[7, 6],\n",
              "       [8, 7],\n",
              "       [9, 5]])"
            ]
          },
          "metadata": {},
          "execution_count": 24
        }
      ]
    },
    {
      "cell_type": "code",
      "source": [
        "54 + B *A"
      ],
      "metadata": {
        "id": "jtxWAUP1JwOs",
        "colab": {
          "base_uri": "https://localhost:8080/"
        },
        "outputId": "5a93ddb6-b1f6-450c-945c-dff0ad854e1b"
      },
      "execution_count": 25,
      "outputs": [
        {
          "output_type": "execute_result",
          "data": {
            "text/plain": [
              "array([[60, 62],\n",
              "       [69, 64],\n",
              "       [72, 58]])"
            ]
          },
          "metadata": {},
          "execution_count": 25
        }
      ]
    },
    {
      "cell_type": "markdown",
      "source": [
        "###Subtraction"
      ],
      "metadata": {
        "id": "DmoadZK51H1l"
      }
    },
    {
      "cell_type": "code",
      "source": [
        "A = np.array([\n",
        "     [91,32], \n",
        "     [53,4],\n",
        "     [61,9]       \n",
        "])\n",
        "B = np.array([\n",
        "     [0,2], \n",
        "     [12,2],\n",
        "     [11,2]\n",
        "])\n",
        "B - A"
      ],
      "metadata": {
        "colab": {
          "base_uri": "https://localhost:8080/"
        },
        "id": "7Pm3KSCs1Kef",
        "outputId": "12ba7e0d-5217-4931-8305-df6fee5c81ef"
      },
      "execution_count": 45,
      "outputs": [
        {
          "output_type": "execute_result",
          "data": {
            "text/plain": [
              "array([[-91, -30],\n",
              "       [-41,  -2],\n",
              "       [-50,  -7]])"
            ]
          },
          "metadata": {},
          "execution_count": 45
        }
      ]
    },
    {
      "cell_type": "markdown",
      "source": [
        "###Element-wise Multiplication"
      ],
      "metadata": {
        "id": "aQsZor_J1YJt"
      }
    },
    {
      "cell_type": "code",
      "source": [
        "A*B\n",
        "np.multiply(A,B)"
      ],
      "metadata": {
        "colab": {
          "base_uri": "https://localhost:8080/"
        },
        "id": "pQFgQ3VA1dwN",
        "outputId": "09e77019-c13f-4f9e-8cc8-7f7f92237622"
      },
      "execution_count": 46,
      "outputs": [
        {
          "output_type": "execute_result",
          "data": {
            "text/plain": [
              "array([[  0,  64],\n",
              "       [636,   8],\n",
              "       [671,  18]])"
            ]
          },
          "metadata": {},
          "execution_count": 46
        }
      ]
    },
    {
      "cell_type": "code",
      "source": [
        "7*A*B"
      ],
      "metadata": {
        "colab": {
          "base_uri": "https://localhost:8080/"
        },
        "id": "PUJ2xXmo1fuV",
        "outputId": "dc30c78e-6964-44a2-d666-3b4b6a2228b8"
      },
      "execution_count": 47,
      "outputs": [
        {
          "output_type": "execute_result",
          "data": {
            "text/plain": [
              "array([[   0,  448],\n",
              "       [4452,   56],\n",
              "       [4697,  126]])"
            ]
          },
          "metadata": {},
          "execution_count": 47
        }
      ]
    },
    {
      "cell_type": "markdown",
      "source": [
        "##Activities"
      ],
      "metadata": {
        "id": "5CA25oj8mHNH"
      }
    },
    {
      "cell_type": "markdown",
      "source": [
        "#### Task 1"
      ],
      "metadata": {
        "id": "QhjERG3gmJZH"
      }
    },
    {
      "cell_type": "code",
      "source": [
        "def mat_desc(matrix):\n",
        "    print(f'Matrix:\\n{matrix}\\n\\nShape:\\t{matrix.shape}\\nRank:\\t{matrix.ndim}\\n\\nSize:\\t{matrix.size}\\n')"
      ],
      "metadata": {
        "id": "SUtdfPHh1nrB"
      },
      "execution_count": 48,
      "outputs": []
    },
    {
      "cell_type": "code",
      "source": [
        "A = np.array ([\n",
        "    [1, 2,5,7],\n",
        "    [3, 1,6,2],\n",
        "    [5, 8,3,1] \n",
        "])\n",
        "mat_desc(A)\n"
      ],
      "metadata": {
        "colab": {
          "base_uri": "https://localhost:8080/"
        },
        "id": "Bkwg1tEi1rc_",
        "outputId": "5787ebdb-643d-4c8e-b1bb-90317e33cf14"
      },
      "execution_count": 51,
      "outputs": [
        {
          "output_type": "stream",
          "name": "stdout",
          "text": [
            "Matrix:\n",
            "[[1 2 5 7]\n",
            " [3 1 6 2]\n",
            " [5 8 3 1]]\n",
            "\n",
            "Shape:\t(3, 4)\n",
            "Rank:\t2\n",
            "\n",
            "Size:\t12\n",
            "\n"
          ]
        }
      ]
    },
    {
      "cell_type": "code",
      "source": [
        "B = np.array ([\n",
        "    [9, 5],\n",
        "    [2, 9],\n",
        "    [6, 7],\n",
        "    [5, 8]\n",
        "])\n",
        "mat_desc(B)"
      ],
      "metadata": {
        "colab": {
          "base_uri": "https://localhost:8080/"
        },
        "id": "hqW62d9G17Pu",
        "outputId": "caff588e-0e6b-4a4d-f7b5-17fb18b4e6a2"
      },
      "execution_count": 54,
      "outputs": [
        {
          "output_type": "stream",
          "name": "stdout",
          "text": [
            "Matrix:\n",
            "[[9 5]\n",
            " [2 9]\n",
            " [6 7]\n",
            " [5 8]]\n",
            "\n",
            "Shape:\t(4, 2)\n",
            "Rank:\t2\n",
            "\n",
            "Size:\t8\n",
            "\n"
          ]
        }
      ]
    },
    {
      "cell_type": "code",
      "source": [
        "C = np.array([\n",
        "    [8, 2,4,6,3],\n",
        "    [9, 4,3,5,6],\n",
        "    [1, 5,3,9,7],\n",
        "    [1, 9,8,1,5],\n",
        "    [9, 4,3,5,6]\n",
        "])\n",
        "mat_desc(C)"
      ],
      "metadata": {
        "colab": {
          "base_uri": "https://localhost:8080/"
        },
        "id": "v09XdB_p2GKl",
        "outputId": "3d88c310-ee4a-475e-8389-1ed321f12ec2"
      },
      "execution_count": 55,
      "outputs": [
        {
          "output_type": "stream",
          "name": "stdout",
          "text": [
            "Matrix:\n",
            "[[8 2 4 6 3]\n",
            " [9 4 3 5 6]\n",
            " [1 5 3 9 7]\n",
            " [1 9 8 1 5]\n",
            " [9 4 3 5 6]]\n",
            "\n",
            "Shape:\t(5, 5)\n",
            "Rank:\t2\n",
            "\n",
            "Size:\t25\n",
            "\n"
          ]
        }
      ]
    },
    {
      "cell_type": "code",
      "source": [
        "def describe_mat(matrix):\n",
        "   if(matrix.shape[0] == matrix.shape[1]):\n",
        "     square =True\n",
        "     print('Square i2')\n",
        "   else:\n",
        "     print('dehins square')"
      ],
      "metadata": {
        "id": "YJAkk61YmLVu"
      },
      "execution_count": 26,
      "outputs": []
    },
    {
      "cell_type": "code",
      "source": [
        "sqr = np.array([\n",
        "    [1,6,1,1],\n",
        "    [3,33,282,24],\n",
        "    [20,46,58,6]\n",
        "])\n",
        "describe_mat(sqr)"
      ],
      "metadata": {
        "id": "nSHVXb9nmn8v",
        "colab": {
          "base_uri": "https://localhost:8080/"
        },
        "outputId": "72fb3ce6-0ac6-4968-a07e-f7b21acf8aa5"
      },
      "execution_count": 27,
      "outputs": [
        {
          "output_type": "stream",
          "name": "stdout",
          "text": [
            "dehins square\n"
          ]
        }
      ]
    },
    {
      "cell_type": "code",
      "source": [
        "sqr = np.array([\n",
        "    [1,6,1,1],\n",
        "    [3,33,282,24],    \n",
        "    [6,6,2,1],\n",
        "    [20,46,58,6]\n",
        "])\n",
        "describe_mat(sqr)"
      ],
      "metadata": {
        "id": "9EqIeBkTn_bv",
        "colab": {
          "base_uri": "https://localhost:8080/"
        },
        "outputId": "d2f98c23-de81-48e4-c9c3-6b9864a61ffb"
      },
      "execution_count": 28,
      "outputs": [
        {
          "output_type": "stream",
          "name": "stdout",
          "text": [
            "Square i2\n"
          ]
        }
      ]
    },
    {
      "cell_type": "code",
      "source": [
        "sqr = np.array([\n",
        "      [1,2,3],\n",
        "      [8,32,6]\n",
        "  \n",
        "])\n",
        "describe_mat(sqr)"
      ],
      "metadata": {
        "id": "vlVG7z16oJdt",
        "colab": {
          "base_uri": "https://localhost:8080/"
        },
        "outputId": "73eabf20-60ff-4072-916d-cf6304f52d0a"
      },
      "execution_count": 29,
      "outputs": [
        {
          "output_type": "stream",
          "name": "stdout",
          "text": [
            "dehins square\n"
          ]
        }
      ]
    },
    {
      "cell_type": "code",
      "source": [
        "def describe_mat(matrix):\n",
        "  zeros = np.zeros((matrix.shape[0], matrix.shape[1]))\n",
        "  if((zeros == matrix).all()):\n",
        "    print('ZERO SIYA')\n",
        "  else:\n",
        "    print('DI SIYA ZERO!')"
      ],
      "metadata": {
        "id": "iwFggiFZrYgX"
      },
      "execution_count": 30,
      "outputs": []
    },
    {
      "cell_type": "code",
      "source": [
        "zeros = np.array([\n",
        "      [1,2,3],\n",
        "      [1,2,3]\n",
        "  \n",
        "])\n",
        "describe_mat(zeros)"
      ],
      "metadata": {
        "id": "_aJjS8r1sKXV",
        "colab": {
          "base_uri": "https://localhost:8080/"
        },
        "outputId": "aeb7ece3-de54-4fff-9710-532128678fe0"
      },
      "execution_count": 31,
      "outputs": [
        {
          "output_type": "stream",
          "name": "stdout",
          "text": [
            "DI SIYA ZERO!\n"
          ]
        }
      ]
    },
    {
      "cell_type": "code",
      "source": [
        "zeros = np.array([\n",
        "      [0,0,0],\n",
        "      [0,0,0]\n",
        "  \n",
        "])\n",
        "describe_mat(zeros)"
      ],
      "metadata": {
        "id": "llz1Xn5zt1iF",
        "colab": {
          "base_uri": "https://localhost:8080/"
        },
        "outputId": "c1db73d1-a6ae-4fb0-b256-c795ac7de072"
      },
      "execution_count": 32,
      "outputs": [
        {
          "output_type": "stream",
          "name": "stdout",
          "text": [
            "ZERO SIYA\n"
          ]
        }
      ]
    },
    {
      "cell_type": "code",
      "source": [
        "def mat_desc(matrix):\n",
        "  if(matrix.size > 0):\n",
        "    is_square = True if matrix.shape[0] == matrix.shape[1] else False\n",
        "    print('Matrix is not empty')\n",
        "  else:\n",
        "    print('Matrix is empty')\n",
        "    "
      ],
      "metadata": {
        "id": "cV6Z4N5EuKoG"
      },
      "execution_count": 57,
      "outputs": []
    },
    {
      "cell_type": "code",
      "source": [
        "empty_mat = np.array([])\n",
        "mat_desc(empty_mat)"
      ],
      "metadata": {
        "id": "q496eh5WWpsP",
        "colab": {
          "base_uri": "https://localhost:8080/"
        },
        "outputId": "628f2e97-1828-4132-8e6a-2d3cb28be845"
      },
      "execution_count": 58,
      "outputs": [
        {
          "output_type": "stream",
          "name": "stdout",
          "text": [
            "Matrix is empty\n"
          ]
        }
      ]
    },
    {
      "cell_type": "code",
      "source": [
        "empty_mat = np.array([\n",
        "    [1,2,5,1,5,9],\n",
        "    [3,3,8,2,6,8],\n",
        "    [2,4,8,6,8,3],\n",
        "    [5,5,6,6,9,1],\n",
        "    [9,7,4,6,2,9]\n",
        "\n",
        "])\n",
        "mat_desc(empty_mat)"
      ],
      "metadata": {
        "colab": {
          "base_uri": "https://localhost:8080/"
        },
        "id": "dof6Hflw2bP8",
        "outputId": "4bcdd288-14fe-4237-fdf7-aed0d5f38419"
      },
      "execution_count": 59,
      "outputs": [
        {
          "output_type": "stream",
          "name": "stdout",
          "text": [
            "Matrix is not empty\n"
          ]
        }
      ]
    },
    {
      "cell_type": "code",
      "source": [
        "empty_mat = np.array([\n",
        "    [2,2,5,1,4,3],\n",
        "    [3,9,6,2,8,9]\n",
        "\n",
        "])\n",
        "mat_desc(empty_mat)"
      ],
      "metadata": {
        "colab": {
          "base_uri": "https://localhost:8080/"
        },
        "id": "4oxVIiwe2lBl",
        "outputId": "6090fd71-cb6f-4675-9a33-27b5f3595c6f"
      },
      "execution_count": 60,
      "outputs": [
        {
          "output_type": "stream",
          "name": "stdout",
          "text": [
            "Matrix is not empty\n"
          ]
        }
      ]
    },
    {
      "cell_type": "code",
      "source": [
        "def mat_desc(matrix):\n",
        "  zeros = np.zeros((matrix.shape[0], matrix.shape[1]))\n",
        "  if((zeros == matrix).all()):\n",
        "    print('Matrix is zero')\n",
        "  else:\n",
        "    print('Matrix is not zero')"
      ],
      "metadata": {
        "id": "Gl-FJgvxWk6a"
      },
      "execution_count": 39,
      "outputs": []
    },
    {
      "cell_type": "code",
      "source": [
        "zeros = np.array([\n",
        "      [0,0,4],\n",
        "      [0,0,0]\n",
        "  \n",
        "])\n",
        "mat_desc(zeros)"
      ],
      "metadata": {
        "colab": {
          "base_uri": "https://localhost:8080/"
        },
        "id": "HTDJG58dWmXz",
        "outputId": "875ecb61-5012-4d4d-fde6-490a00f9a3de"
      },
      "execution_count": 40,
      "outputs": [
        {
          "output_type": "stream",
          "name": "stdout",
          "text": [
            "Matrix is not zero\n"
          ]
        }
      ]
    },
    {
      "cell_type": "markdown",
      "source": [
        "###Task 2"
      ],
      "metadata": {
        "id": "fDK-E0PN2qt9"
      }
    },
    {
      "cell_type": "code",
      "source": [
        "def mat_operations(matrix1, matrix2):\n",
        "  matrix1 = np.array(matrix1)\n",
        "  matrix2 = np.array(matrix2)\n",
        "  print('Matrix 1 entries are:\\n',matrix1)\n",
        "  print('Matrix 2 entries are:\\n', matrix2)\n",
        "  if(matrix1.shape != matrix2.shape):\n",
        "    print('A non-square matrix cannot perform an operation')\n",
        "    return\n",
        "  print('Sum:')\n",
        "  summ=matrix1 + matrix2\n",
        "  print(summ)\n",
        "  print('Difference:')\n",
        "  diff= matrix1-matrix2\n",
        "  print(diff)\n",
        "  print('Element-wise multiplication:') \n",
        "  ewm = matrix1*matrix2\n",
        "  print(ewm)\n",
        "  print('Element-wise division:')\n",
        "  ewd = matrix1/matrix2\n",
        "  print(ewd)"
      ],
      "metadata": {
        "id": "L0qHc3rFoDyK"
      },
      "execution_count": 61,
      "outputs": []
    },
    {
      "cell_type": "code",
      "source": [
        "mat_operations([\n",
        "    [2,1,6,1,2,5], \n",
        "    [6,7,7,2,3,9],\n",
        "    [3,3,9,6,7,4],\n",
        "    [3,4,6,6,5,6]],\n",
        "\n",
        "    [[1,2,2,3,9,3], \n",
        "    [1,2,2,1,1,4],\n",
        "    [1,2,1,3,1,5],\n",
        "    [3,6,9,6,7,6]])"
      ],
      "metadata": {
        "colab": {
          "base_uri": "https://localhost:8080/"
        },
        "id": "fx_zHTC9oK0C",
        "outputId": "69c71c3c-52ee-4b4a-8cae-f19c7346c9ed"
      },
      "execution_count": 43,
      "outputs": [
        {
          "output_type": "stream",
          "name": "stdout",
          "text": [
            "Matrix 1 entries are:\n",
            " [[2 1 6 1 2 5]\n",
            " [6 7 7 2 3 9]\n",
            " [3 3 9 6 7 4]\n",
            " [3 4 6 6 5 6]]\n",
            "Matrix 2 entries are:\n",
            " [[1 2 2 3 9 3]\n",
            " [1 2 2 1 1 4]\n",
            " [1 2 1 3 1 5]\n",
            " [3 6 9 6 7 6]]\n",
            "Sum:\n",
            "[[ 3  3  8  4 11  8]\n",
            " [ 7  9  9  3  4 13]\n",
            " [ 4  5 10  9  8  9]\n",
            " [ 6 10 15 12 12 12]]\n",
            "Difference:\n",
            "[[ 1 -1  4 -2 -7  2]\n",
            " [ 5  5  5  1  2  5]\n",
            " [ 2  1  8  3  6 -1]\n",
            " [ 0 -2 -3  0 -2  0]]\n",
            "Element-wise multiplication:\n",
            "[[ 2  2 12  3 18 15]\n",
            " [ 6 14 14  2  3 36]\n",
            " [ 3  6  9 18  7 20]\n",
            " [ 9 24 54 36 35 36]]\n",
            "Element-wise division:\n",
            "[[2.         0.5        3.         0.33333333 0.22222222 1.66666667]\n",
            " [6.         3.5        3.5        2.         3.         2.25      ]\n",
            " [3.         1.5        9.         2.         7.         0.8       ]\n",
            " [1.         0.66666667 0.66666667 1.         0.71428571 1.        ]]\n"
          ]
        }
      ]
    }
  ]
}