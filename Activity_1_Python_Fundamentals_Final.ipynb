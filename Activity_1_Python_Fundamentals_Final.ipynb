{
  "nbformat": 4,
  "nbformat_minor": 0,
  "metadata": {
    "colab": {
      "name": "Activity 1 - Python Fundamentals",
      "provenance": [],
      "include_colab_link": true
    },
    "kernelspec": {
      "name": "python3",
      "display_name": "Python 3"
    },
    "language_info": {
      "name": "python"
    }
  },
  "cells": [
    {
      "cell_type": "markdown",
      "metadata": {
        "id": "view-in-github",
        "colab_type": "text"
      },
      "source": [
        "<a href=\"https://colab.research.google.com/github/beafrnndz/Linear-Algebra_2ndSemester/blob/main/Activity_1_Python_Fundamentals_Final.ipynb\" target=\"_parent\"><img src=\"https://colab.research.google.com/assets/colab-badge.svg\" alt=\"Open In Colab\"/></a>"
      ]
    },
    {
      "cell_type": "markdown",
      "source": [
        "# Welcome to Python Fundamentals\n",
        "In this module, we are going to establish or review our skills in Python programming. In this notebook we are going to cover:\n",
        "* Variables and Data Types \n",
        "* Operations\n",
        "* Input and Output Operations\n",
        "* Logic Control\n",
        "* Iterables\n",
        "* Functions\n"
      ],
      "metadata": {
        "id": "WZUj8sUfsNPK"
      }
    },
    {
      "cell_type": "markdown",
      "source": [
        "## Variable and Data Types\n"
      ],
      "metadata": {
        "id": "cw7YM_k-tC7W"
      }
    },
    {
      "cell_type": "code",
      "source": [
        "h,a = 0, -1\n",
        "x = 1\n"
      ],
      "metadata": {
        "id": "-fJ4uy8atqsi"
      },
      "execution_count": null,
      "outputs": []
    },
    {
      "cell_type": "code",
      "source": [
        "type (x)"
      ],
      "metadata": {
        "colab": {
          "base_uri": "https://localhost:8080/"
        },
        "id": "tOZEnC8PuiW7",
        "outputId": "eaf145ea-c136-446a-a0ce-0acb7035a347"
      },
      "execution_count": null,
      "outputs": [
        {
          "output_type": "execute_result",
          "data": {
            "text/plain": [
              "int"
            ]
          },
          "metadata": {},
          "execution_count": 2
        }
      ]
    },
    {
      "cell_type": "code",
      "source": [
        "y = 1.3\n",
        "type (y)"
      ],
      "metadata": {
        "colab": {
          "base_uri": "https://localhost:8080/"
        },
        "id": "diXWL42Qvf9s",
        "outputId": "fa810cee-48e0-4345-ebf4-541f87c58e73"
      },
      "execution_count": null,
      "outputs": [
        {
          "output_type": "execute_result",
          "data": {
            "text/plain": [
              "float"
            ]
          },
          "metadata": {},
          "execution_count": 3
        }
      ]
    },
    {
      "cell_type": "code",
      "source": [
        "y = float(y)\n",
        "type(y)"
      ],
      "metadata": {
        "colab": {
          "base_uri": "https://localhost:8080/"
        },
        "id": "iuNd-demwq6e",
        "outputId": "96e8efbe-0beb-4ddd-ba51-53c5c22908ea"
      },
      "execution_count": null,
      "outputs": [
        {
          "output_type": "execute_result",
          "data": {
            "text/plain": [
              "float"
            ]
          },
          "metadata": {},
          "execution_count": 4
        }
      ]
    },
    {
      "cell_type": "code",
      "source": [
        "b,e,a = \"14\", '4', 'three'\n",
        "type(e)"
      ],
      "metadata": {
        "colab": {
          "base_uri": "https://localhost:8080/"
        },
        "id": "wsDxdIJnw1k9",
        "outputId": "4c208318-8653-4d8f-b1d0-0ade4ed79ade"
      },
      "execution_count": null,
      "outputs": [
        {
          "output_type": "execute_result",
          "data": {
            "text/plain": [
              "str"
            ]
          },
          "metadata": {},
          "execution_count": 5
        }
      ]
    },
    {
      "cell_type": "code",
      "source": [
        "b_int = int(b)\n",
        "b_int"
      ],
      "metadata": {
        "colab": {
          "base_uri": "https://localhost:8080/"
        },
        "id": "qGkLPlgpxRSS",
        "outputId": "80a7d8ba-edd8-4793-fd8b-f96f6d071446"
      },
      "execution_count": null,
      "outputs": [
        {
          "output_type": "execute_result",
          "data": {
            "text/plain": [
              "14"
            ]
          },
          "metadata": {},
          "execution_count": 6
        }
      ]
    },
    {
      "cell_type": "code",
      "source": [
        "b_float = float(b)\n",
        "b_float"
      ],
      "metadata": {
        "colab": {
          "base_uri": "https://localhost:8080/"
        },
        "id": "neALLIN3xlFr",
        "outputId": "1d6eb68c-422d-4748-c230-a3b404c7f2fd"
      },
      "execution_count": null,
      "outputs": [
        {
          "output_type": "execute_result",
          "data": {
            "text/plain": [
              "14.0"
            ]
          },
          "metadata": {},
          "execution_count": 7
        }
      ]
    },
    {
      "cell_type": "markdown",
      "source": [
        "##Operations\n"
      ],
      "metadata": {
        "id": "GCxjR5GEyBw5"
      }
    },
    {
      "cell_type": "markdown",
      "source": [
        "###Arithmetic"
      ],
      "metadata": {
        "id": "9TMTcQTgyLPV"
      }
    },
    {
      "cell_type": "code",
      "source": [
        "s,t,u,v = 3.5, -0.2, 8, -12"
      ],
      "metadata": {
        "id": "usSJaQF6yQVF"
      },
      "execution_count": null,
      "outputs": []
    },
    {
      "cell_type": "code",
      "source": [
        "###Addition\n",
        "S = s+v\n",
        "S"
      ],
      "metadata": {
        "colab": {
          "base_uri": "https://localhost:8080/"
        },
        "id": "DEM30KFOybjd",
        "outputId": "a420774f-f7a5-482b-d789-fad7fb2f2d74"
      },
      "execution_count": null,
      "outputs": [
        {
          "output_type": "execute_result",
          "data": {
            "text/plain": [
              "-8.5"
            ]
          },
          "metadata": {},
          "execution_count": 6
        }
      ]
    },
    {
      "cell_type": "code",
      "source": [
        "### Multiplication\n",
        "M = t*5\n",
        "M"
      ],
      "metadata": {
        "colab": {
          "base_uri": "https://localhost:8080/"
        },
        "id": "i_HBQNgNyyTX",
        "outputId": "5849c8df-2c47-4bdb-c947-bd8f3bb7ab10"
      },
      "execution_count": null,
      "outputs": [
        {
          "output_type": "execute_result",
          "data": {
            "text/plain": [
              "-1.0"
            ]
          },
          "metadata": {},
          "execution_count": 7
        }
      ]
    },
    {
      "cell_type": "code",
      "source": [
        "### Division\n",
        "D = u/v/2\n",
        "D"
      ],
      "metadata": {
        "colab": {
          "base_uri": "https://localhost:8080/"
        },
        "id": "erWoNxkhzHHf",
        "outputId": "fb37db3a-7dbf-4853-d53c-ff643355f6f9"
      },
      "execution_count": null,
      "outputs": [
        {
          "output_type": "execute_result",
          "data": {
            "text/plain": [
              "-0.3333333333333333"
            ]
          },
          "metadata": {},
          "execution_count": 8
        }
      ]
    },
    {
      "cell_type": "code",
      "source": [
        "### Subtraction\n",
        "Sub = 64-v-u-21\n",
        "Sub\n"
      ],
      "metadata": {
        "colab": {
          "base_uri": "https://localhost:8080/"
        },
        "id": "ZsZzEGSGzOLp",
        "outputId": "388dd8cc-b949-4b00-e866-0327b46b73f7"
      },
      "execution_count": null,
      "outputs": [
        {
          "output_type": "execute_result",
          "data": {
            "text/plain": [
              "47"
            ]
          },
          "metadata": {},
          "execution_count": 12
        }
      ]
    },
    {
      "cell_type": "code",
      "source": [
        "### Floor Division\n",
        "Fq = 4//v\n",
        "Fq"
      ],
      "metadata": {
        "colab": {
          "base_uri": "https://localhost:8080/"
        },
        "id": "sRTkEJLJz1Tm",
        "outputId": "68926d65-2c96-4399-d9d4-206c609b4327"
      },
      "execution_count": null,
      "outputs": [
        {
          "output_type": "execute_result",
          "data": {
            "text/plain": [
              "-1"
            ]
          },
          "metadata": {},
          "execution_count": 13
        }
      ]
    },
    {
      "cell_type": "code",
      "source": [
        "### Exponentiation\n",
        "E = s**v\n",
        "E"
      ],
      "metadata": {
        "colab": {
          "base_uri": "https://localhost:8080/"
        },
        "id": "UQG99RpP0mQs",
        "outputId": "5d63e2f7-809f-4743-fe2f-1daca51bab55"
      },
      "execution_count": null,
      "outputs": [
        {
          "output_type": "execute_result",
          "data": {
            "text/plain": [
              "2.959262343537004e-07"
            ]
          },
          "metadata": {},
          "execution_count": 14
        }
      ]
    },
    {
      "cell_type": "code",
      "source": [
        "###Modulo\n",
        "Mod = s%t\n",
        "Mod"
      ],
      "metadata": {
        "colab": {
          "base_uri": "https://localhost:8080/"
        },
        "id": "rAMePV_A1IIy",
        "outputId": "743c3793-7098-48f5-cb84-2f1a3f3fb084"
      },
      "execution_count": null,
      "outputs": [
        {
          "output_type": "execute_result",
          "data": {
            "text/plain": [
              "-0.1000000000000002"
            ]
          },
          "metadata": {},
          "execution_count": 9
        }
      ]
    },
    {
      "cell_type": "markdown",
      "source": [
        "###Assignment Operations"
      ],
      "metadata": {
        "id": "mvuT11nm1jPv"
      }
    },
    {
      "cell_type": "code",
      "source": [
        "M,N,O,P = 3, 250, -100, 2"
      ],
      "metadata": {
        "id": "JuZN4gmA1mPm"
      },
      "execution_count": null,
      "outputs": []
    },
    {
      "cell_type": "code",
      "source": [
        "M +=s\n",
        "M"
      ],
      "metadata": {
        "colab": {
          "base_uri": "https://localhost:8080/"
        },
        "id": "joB5g_rS13VT",
        "outputId": "543b4d48-ac1f-4a48-8e9c-069e6a2fb3d7"
      },
      "execution_count": null,
      "outputs": [
        {
          "output_type": "execute_result",
          "data": {
            "text/plain": [
              "6.5"
            ]
          },
          "metadata": {},
          "execution_count": 11
        }
      ]
    },
    {
      "cell_type": "code",
      "source": [
        "N -=t\n",
        "N"
      ],
      "metadata": {
        "colab": {
          "base_uri": "https://localhost:8080/"
        },
        "id": "7zn8nyMO2Smy",
        "outputId": "3a8fde4d-a0f3-42a1-ac48-21812e0ed02d"
      },
      "execution_count": null,
      "outputs": [
        {
          "output_type": "execute_result",
          "data": {
            "text/plain": [
              "250.2"
            ]
          },
          "metadata": {},
          "execution_count": 12
        }
      ]
    },
    {
      "cell_type": "code",
      "source": [
        "O *=5\n",
        "O"
      ],
      "metadata": {
        "colab": {
          "base_uri": "https://localhost:8080/"
        },
        "id": "12RUrB7x2xRm",
        "outputId": "5cef2970-f5ec-4739-bae9-fab0c4abdd4c"
      },
      "execution_count": null,
      "outputs": [
        {
          "output_type": "execute_result",
          "data": {
            "text/plain": [
              "-500"
            ]
          },
          "metadata": {},
          "execution_count": 13
        }
      ]
    },
    {
      "cell_type": "code",
      "source": [
        "P **=4\n",
        "P"
      ],
      "metadata": {
        "colab": {
          "base_uri": "https://localhost:8080/"
        },
        "id": "c8fcRtsD3GlI",
        "outputId": "44d11d55-784d-4744-e3fc-1bade1a0beba"
      },
      "execution_count": null,
      "outputs": [
        {
          "output_type": "execute_result",
          "data": {
            "text/plain": [
              "16"
            ]
          },
          "metadata": {},
          "execution_count": 14
        }
      ]
    },
    {
      "cell_type": "markdown",
      "source": [
        "###Comparators\n"
      ],
      "metadata": {
        "id": "EQQCbkHZ3ZXc"
      }
    },
    {
      "cell_type": "code",
      "source": [
        "res_1, res_2, res_3 = 3, 4.0, \"0\"\n",
        "true_val = 3.0"
      ],
      "metadata": {
        "id": "7G7hXI_e3bXa"
      },
      "execution_count": null,
      "outputs": []
    },
    {
      "cell_type": "code",
      "source": [
        "###Equality\n",
        "res_1== true_val"
      ],
      "metadata": {
        "colab": {
          "base_uri": "https://localhost:8080/"
        },
        "id": "F2Y0yGbt3ute",
        "outputId": "5a04f252-7d8c-465c-9a41-2aa5bb4f43c2"
      },
      "execution_count": null,
      "outputs": [
        {
          "output_type": "execute_result",
          "data": {
            "text/plain": [
              "True"
            ]
          },
          "metadata": {},
          "execution_count": 16
        }
      ]
    },
    {
      "cell_type": "code",
      "source": [
        "###Non-equality\n",
        "res_3 != true_val"
      ],
      "metadata": {
        "colab": {
          "base_uri": "https://localhost:8080/"
        },
        "id": "LcUAhlhe3_8n",
        "outputId": "1e3d04b9-5640-4ee4-8b56-cf702f1df873"
      },
      "execution_count": null,
      "outputs": [
        {
          "output_type": "execute_result",
          "data": {
            "text/plain": [
              "True"
            ]
          },
          "metadata": {},
          "execution_count": 17
        }
      ]
    },
    {
      "cell_type": "code",
      "source": [
        "##Inequality\n",
        "t1 = res_1 > res_2\n",
        "t2 = res_2 < res_2/3\n",
        "t3 = res_2/2 >= res_1\n",
        "t1"
      ],
      "metadata": {
        "colab": {
          "base_uri": "https://localhost:8080/"
        },
        "id": "fPZHOZJH4Kye",
        "outputId": "c9c4836c-e5db-4f00-887e-e92a3a02fa32"
      },
      "execution_count": null,
      "outputs": [
        {
          "output_type": "execute_result",
          "data": {
            "text/plain": [
              "False"
            ]
          },
          "metadata": {},
          "execution_count": 18
        }
      ]
    },
    {
      "cell_type": "markdown",
      "source": [
        "###Logic"
      ],
      "metadata": {
        "id": "6wv4SdEr6nUA"
      }
    },
    {
      "cell_type": "code",
      "source": [
        "res_1 == true_val"
      ],
      "metadata": {
        "id": "vbYLurAO-l8K",
        "outputId": "80d980b5-3ba5-469e-dc84-47349804c7fb",
        "colab": {
          "base_uri": "https://localhost:8080/"
        }
      },
      "execution_count": null,
      "outputs": [
        {
          "output_type": "execute_result",
          "data": {
            "text/plain": [
              "True"
            ]
          },
          "metadata": {},
          "execution_count": 25
        }
      ]
    },
    {
      "cell_type": "code",
      "source": [
        "res_1 is true_val"
      ],
      "metadata": {
        "id": "GmdmSrQW-zC5",
        "outputId": "c3b56bf9-7595-477d-d517-6120b7f09b72",
        "colab": {
          "base_uri": "https://localhost:8080/"
        }
      },
      "execution_count": null,
      "outputs": [
        {
          "output_type": "execute_result",
          "data": {
            "text/plain": [
              "False"
            ]
          },
          "metadata": {},
          "execution_count": 26
        }
      ]
    },
    {
      "cell_type": "code",
      "source": [
        "res_1 is not true_val"
      ],
      "metadata": {
        "id": "-oEUszdT-14I",
        "outputId": "1c65e678-9478-4442-c108-766d16b4c13c",
        "colab": {
          "base_uri": "https://localhost:8080/"
        }
      },
      "execution_count": null,
      "outputs": [
        {
          "output_type": "execute_result",
          "data": {
            "text/plain": [
              "True"
            ]
          },
          "metadata": {},
          "execution_count": 27
        }
      ]
    },
    {
      "cell_type": "code",
      "source": [
        "a,b = True, False\n",
        "conj = a and b\n",
        "conj"
      ],
      "metadata": {
        "colab": {
          "base_uri": "https://localhost:8080/"
        },
        "id": "V5uQn3ry6tWW",
        "outputId": "3d1780a7-08c2-4e3f-991b-72e7beafe505"
      },
      "execution_count": null,
      "outputs": [
        {
          "output_type": "execute_result",
          "data": {
            "text/plain": [
              "False"
            ]
          },
          "metadata": {},
          "execution_count": 28
        }
      ]
    },
    {
      "cell_type": "code",
      "source": [
        "a,b = True, True\n",
        "disj = a or b\n",
        "disj"
      ],
      "metadata": {
        "colab": {
          "base_uri": "https://localhost:8080/"
        },
        "id": "puObWmHz7T6C",
        "outputId": "a9dbbb4a-1811-412c-83fa-c582e807824d"
      },
      "execution_count": null,
      "outputs": [
        {
          "output_type": "execute_result",
          "data": {
            "text/plain": [
              "True"
            ]
          },
          "metadata": {},
          "execution_count": 29
        }
      ]
    },
    {
      "cell_type": "code",
      "source": [
        "a,b = False,True\n",
        "nand = not(a or b)\n",
        "nand"
      ],
      "metadata": {
        "colab": {
          "base_uri": "https://localhost:8080/"
        },
        "id": "H--5QQ2w7gk9",
        "outputId": "188b8232-8714-4b74-f179-3d00429f5e37"
      },
      "execution_count": null,
      "outputs": [
        {
          "output_type": "execute_result",
          "data": {
            "text/plain": [
              "False"
            ]
          },
          "metadata": {},
          "execution_count": 30
        }
      ]
    },
    {
      "cell_type": "code",
      "source": [
        "a,b =False, False\n",
        "xor = (a and b) or (not b or a)\n",
        "xor"
      ],
      "metadata": {
        "colab": {
          "base_uri": "https://localhost:8080/"
        },
        "id": "HPK0EbBH7v_0",
        "outputId": "24358e84-de7a-4b9d-982c-81ce4905331f"
      },
      "execution_count": null,
      "outputs": [
        {
          "output_type": "execute_result",
          "data": {
            "text/plain": [
              "True"
            ]
          },
          "metadata": {},
          "execution_count": 31
        }
      ]
    },
    {
      "cell_type": "markdown",
      "source": [
        "###I/O"
      ],
      "metadata": {
        "id": "KfwxgWTL8HWr"
      }
    },
    {
      "cell_type": "code",
      "source": [
        "print(\"Hello Mars, pautang\")"
      ],
      "metadata": {
        "colab": {
          "base_uri": "https://localhost:8080/"
        },
        "id": "rM91KmQr8I-S",
        "outputId": "a680eb22-3f7b-4cf5-a6b4-ace82577c94a"
      },
      "execution_count": null,
      "outputs": [
        {
          "output_type": "stream",
          "name": "stdout",
          "text": [
            "Hello Mars, pautang\n"
          ]
        }
      ]
    },
    {
      "cell_type": "code",
      "source": [
        "cnt = 2"
      ],
      "metadata": {
        "id": "pIOhFbh68RSg"
      },
      "execution_count": null,
      "outputs": []
    },
    {
      "cell_type": "code",
      "source": [
        "string = \"Hello Mars, pautang\"\n",
        "print (string, \", Current run count is:\", cnt)\n",
        "cnt +=2"
      ],
      "metadata": {
        "colab": {
          "base_uri": "https://localhost:8080/"
        },
        "id": "tlyBroZL8VT1",
        "outputId": "4fbbf11b-c7a3-4c7c-f4c7-8d2c0066c5de"
      },
      "execution_count": null,
      "outputs": [
        {
          "output_type": "stream",
          "name": "stdout",
          "text": [
            "Hello Mars, pautang , Current run count is: 2\n"
          ]
        }
      ]
    },
    {
      "cell_type": "code",
      "source": [
        "print (f\"{string}) Ang bilang na ito ay: {cnt}\")"
      ],
      "metadata": {
        "colab": {
          "base_uri": "https://localhost:8080/"
        },
        "id": "4w980Etq9V4e",
        "outputId": "9530be2f-942d-4582-9696-f6904999b1af"
      },
      "execution_count": null,
      "outputs": [
        {
          "output_type": "stream",
          "name": "stdout",
          "text": [
            "Hello Mars, pautang) Ang bilang na ito ay: 4\n"
          ]
        }
      ]
    },
    {
      "cell_type": "code",
      "source": [
        "sem_grade = 98.324\n",
        "name = \"bea\"\n",
        "print ( \"Hello\", name, \"your semestral grade is:\", sem_grade)"
      ],
      "metadata": {
        "colab": {
          "base_uri": "https://localhost:8080/"
        },
        "id": "7jG4Tynf9wWS",
        "outputId": "8c3b73c0-a095-4918-854a-75c83e046fb4"
      },
      "execution_count": null,
      "outputs": [
        {
          "output_type": "stream",
          "name": "stdout",
          "text": [
            "Hello bea your semestral grade is: 98.324\n"
          ]
        }
      ]
    },
    {
      "cell_type": "code",
      "execution_count": null,
      "metadata": {
        "colab": {
          "base_uri": "https://localhost:8080/"
        },
        "id": "TvxZqL1utkXG",
        "outputId": "ddb14e5f-ffb6-4c04-f49b-10472b84330d"
      },
      "outputs": [
        {
          "output_type": "stream",
          "name": "stdout",
          "text": [
            "The weights of your semestral grades are:\n",
            "\t 30.00% for Prelims\n",
            "\t 30.00% for Midterms, and\n",
            "\t  40.00% for Finals. \n"
          ]
        }
      ],
      "source": [
        "w_pg, w_mg, w_fg = 0.3, 0.3, 0.4\n",
        "print(\"The weights of your semestral grades are:\\\n",
        "\\n\\t {:.2%} for Prelims\\\n",
        "\\n\\t {:.2%} for Midterms, and\\\n",
        "\\n\\t {: .2%} for Finals. \".format(w_pg, w_mg, w_fg))\n",
        "\n"
      ]
    },
    {
      "cell_type": "code",
      "execution_count": null,
      "metadata": {
        "colab": {
          "base_uri": "https://localhost:8080/",
          "height": 54
        },
        "id": "D9P3lNE1up6F",
        "outputId": "acc4d4ed-12e1-4ea6-d291-f14d4b56e0ea"
      },
      "outputs": [
        {
          "name": "stdout",
          "output_type": "stream",
          "text": [
            "enter a number: 21\n"
          ]
        },
        {
          "output_type": "execute_result",
          "data": {
            "application/vnd.google.colaboratory.intrinsic+json": {
              "type": "string"
            },
            "text/plain": [
              "'21'"
            ]
          },
          "metadata": {},
          "execution_count": 49
        }
      ],
      "source": [
        "x = input(\"enter a number: \")\n",
        "x"
      ]
    },
    {
      "cell_type": "code",
      "execution_count": null,
      "metadata": {
        "id": "e_BVEE9fu61L",
        "outputId": "619cadbc-e048-436e-f08b-fa0bf301fd74",
        "colab": {
          "base_uri": "https://localhost:8080/"
        }
      },
      "outputs": [
        {
          "output_type": "stream",
          "name": "stdout",
          "text": [
            "Name mo:Bea\n",
            "Enter prelim grade: as\n",
            "Enter midterm grade: 21\n",
            "Enter finals grade: 21\n",
            "Hello Bea, your semestral grade is: None\n"
          ]
        }
      ],
      "source": [
        "name = input(\"Name mo:\")\n",
        "pg = input(\"Enter prelim grade: \")\n",
        "mg = input(\"Enter midterm grade: \")\n",
        "fg = input(\"Enter finals grade: \")\n",
        "sem_grade = None\n",
        "print(\"Hello {}, your semestral grade is: {}\" .format(name, sem_grade))"
      ]
    },
    {
      "cell_type": "markdown",
      "metadata": {
        "id": "i3yigtyU5NR9"
      },
      "source": [
        "#Looping Statements\n"
      ]
    },
    {
      "cell_type": "markdown",
      "metadata": {
        "id": "gF55DoA3J3hb"
      },
      "source": [
        "###While"
      ]
    },
    {
      "cell_type": "code",
      "execution_count": null,
      "metadata": {
        "id": "BQuwAp9OJ-ie",
        "outputId": "76d98e87-5974-4583-e3d8-7ff3a6c64538",
        "colab": {
          "base_uri": "https://localhost:8080/"
        }
      },
      "outputs": [
        {
          "output_type": "stream",
          "name": "stdout",
          "text": [
            "0\t|\t15\n",
            "2\t|\t14\n",
            "4\t|\t13\n",
            "6\t|\t12\n",
            "8\t|\t11\n",
            "10\t|\t10\n"
          ]
        }
      ],
      "source": [
        "### while loops\n",
        "i, j = 0, 15\n",
        "while(i<=j):\n",
        "  print(f\"{i}\\t|\\t{j}\")\n",
        "  i+=2\n",
        "  j-=1\n"
      ]
    },
    {
      "cell_type": "markdown",
      "metadata": {
        "id": "TxAMlSw-KEy4"
      },
      "source": [
        "###For\n"
      ]
    },
    {
      "cell_type": "code",
      "execution_count": null,
      "metadata": {
        "id": "a-AxoJe_KP8-",
        "outputId": "fb04c2ec-c2ca-44c9-ab00-43cae60d6ad5",
        "colab": {
          "base_uri": "https://localhost:8080/"
        }
      },
      "outputs": [
        {
          "output_type": "stream",
          "name": "stdout",
          "text": [
            "0\n",
            "1\n",
            "2\n",
            "3\n",
            "4\n",
            "5\n",
            "6\n",
            "7\n",
            "8\n",
            "9\n",
            "10\n",
            "11\n",
            "12\n",
            "13\n",
            "14\n",
            "15\n",
            "16\n",
            "17\n",
            "18\n",
            "19\n"
          ]
        }
      ],
      "source": [
        "# for(int i=0; i<10; i++){\n",
        "# printf(i)\n",
        "# }\n",
        "\n",
        "i=0\n",
        "for i in range(20):\n",
        "  print(i)"
      ]
    },
    {
      "cell_type": "code",
      "execution_count": null,
      "metadata": {
        "id": "oz2YQzhnKVna",
        "outputId": "7ae8f3e2-8f50-477d-be18-55df4b2c7565",
        "colab": {
          "base_uri": "https://localhost:8080/"
        }
      },
      "outputs": [
        {
          "output_type": "stream",
          "name": "stdout",
          "text": [
            "Now Playing:\n",
            "\n",
            "OO\n",
            "EWAN\n",
            "BAKA\n"
          ]
        }
      ],
      "source": [
        "playlist = [\"OO\", \"EWAN\", \"BAKA\"]\n",
        "print('Now Playing:\\n')\n",
        "for song in playlist:\n",
        "  print(song)"
      ]
    },
    {
      "cell_type": "markdown",
      "source": [
        "## Flow Control"
      ],
      "metadata": {
        "id": "VZcCiZjzKJ4u"
      }
    },
    {
      "cell_type": "markdown",
      "source": [
        "###Condition Statements\n"
      ],
      "metadata": {
        "id": "dXJPQw4CKOaI"
      }
    },
    {
      "cell_type": "code",
      "execution_count": 1,
      "metadata": {
        "colab": {
          "base_uri": "https://localhost:8080/"
        },
        "id": "2-eaff0wL8SU",
        "outputId": "57709e59-648d-4a00-ae71-1f124f5a82d4"
      },
      "outputs": [
        {
          "output_type": "stream",
          "name": "stdout",
          "text": [
            "OWSHII\n"
          ]
        }
      ],
      "source": [
        "numeral1, numeral2 = 1, 11\n",
        "if(numeral1 == numeral2):\n",
        "    print(\"NICE\")\n",
        "elif(numeral1>numeral2):\n",
        "  print(\"AMAZING\")\n",
        "else:\n",
        "   print(\"OWSHII\")"
      ]
    },
    {
      "cell_type": "markdown",
      "metadata": {
        "id": "xrhgGP3-MLN0"
      },
      "source": [
        "##Functions"
      ]
    },
    {
      "cell_type": "code",
      "execution_count": null,
      "metadata": {
        "id": "ISj_akuH11G2"
      },
      "outputs": [],
      "source": [
        "# void DeleteUser(int userid){\n",
        "# delete(userid);\n",
        "#}\n",
        "\n",
        "def delete_user (userid):\n",
        "    print(\"Successfully deleted user: {}\" .format(userid))\n",
        "def delete_allusers ():\n",
        "    print(\"WALA NA\")"
      ]
    },
    {
      "cell_type": "code",
      "execution_count": null,
      "metadata": {
        "colab": {
          "base_uri": "https://localhost:8080/"
        },
        "id": "nGi52bq024QP",
        "outputId": "51f21eb6-1481-4714-8b55-e1c245a071d7"
      },
      "outputs": [
        {
          "output_type": "stream",
          "name": "stdout",
          "text": [
            "Successfully deleted user: Bea\n",
            "WALA NA\n"
          ]
        }
      ],
      "source": [
        "userid = \"Bea\"\n",
        "delete_user(\"Bea\")\n",
        "delete_allusers()"
      ]
    },
    {
      "cell_type": "code",
      "execution_count": null,
      "metadata": {
        "id": "8yRBVEuV3mOD"
      },
      "outputs": [],
      "source": [
        "def add(addend1, addend2):\n",
        "  return addend1 + addend2\n",
        "\n",
        "def power_of_base2(exponent):\n",
        "  return 2**exponent"
      ]
    },
    {
      "cell_type": "code",
      "execution_count": null,
      "metadata": {
        "colab": {
          "base_uri": "https://localhost:8080/"
        },
        "id": "pgZXCCfb32-M",
        "outputId": "c44d1708-0cce-433d-dea0-7a6eca305eb0"
      },
      "outputs": [
        {
          "output_type": "execute_result",
          "data": {
            "text/plain": [
              "8"
            ]
          },
          "metadata": {},
          "execution_count": 4
        }
      ],
      "source": [
        "addend1, addend2 = 12, 90\n",
        "add(addend1, addend2)\n",
        "\n",
        "exponent = 3\n",
        "power_of_base2(exponent)"
      ]
    },
    {
      "cell_type": "code",
      "execution_count": null,
      "metadata": {
        "colab": {
          "base_uri": "https://localhost:8080/"
        },
        "id": "mgPBWmrRYcaW",
        "outputId": "7c7f4652-bc59-4263-803c-32ea17408d06"
      },
      "outputs": [
        {
          "output_type": "stream",
          "name": "stdout",
          "text": [
            "Name of the student: Bea\n",
            "Program of the student: ChE\n",
            "Your Prelim Grade: 45\n",
            "Your Midterm Grade: 99\n",
            "Your Final Grade: 68\n",
            "Hello Bea, a student from ChE, your semestral grade for this A.Y is: 70.4 \n",
            "Ang taas ng grades mo! Congrats! 😀\n"
          ]
        }
      ],
      "source": [
        "cw_pg, w_mg, w_fg= 0.3, 0.3, 0.4\n",
        "Name = input(\"Name of the student: \")\n",
        "Program = input(\"Program of the student: \")\n",
        "pg = float (input(\"Your Prelim Grade: \"))\n",
        "mg = float (input(\"Your Midterm Grade: \"))\n",
        "fg = float (input(\"Your Final Grade: \"))\n",
        "sem_grade = (pg*w_pg)+(mg*w_mg)+(fg*w_fg)\n",
        "print(\"Hello {}, a student from {}, your semestral grade for this A.Y is: {} \".format(Name, Program, round(sem_grade, 2)))\n",
        "if(sem_grade > 70.00):\n",
        "  print(\"Ang taas ng grades mo! Congrats! \\U0001F600\")\n",
        "elif(sem_grade == 70.00):\n",
        "  print(\"Uy! Muntikan na! Congrats pa rin! \\U0001F606\")\n",
        "else:\n",
        "  print(\"Bawiin mo na lang yan sa susunod. Proud pa rin ako sayo. \\U0001F62D\")"
      ]
    }
  ]
}